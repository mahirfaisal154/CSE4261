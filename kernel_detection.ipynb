{
 "cells": [
  {
   "cell_type": "code",
   "execution_count": null,
   "id": "065e9cf9",
   "metadata": {},
   "outputs": [],
   "source": [
    "!pip install tensorflow-addons\n",
    "!pip install tensorflow==2.15.0 tensorflow-addons==0.23.0 -q"
   ]
  },
  {
   "cell_type": "code",
   "execution_count": null,
   "id": "e199f7b2",
   "metadata": {},
   "outputs": [
    {
     "name": "stdout",
     "output_type": "stream",
     "text": [
      "Downloading data from https://storage.googleapis.com/tensorflow/keras-applications/mobilenet_v2/mobilenet_v2_weights_tf_dim_ordering_tf_kernels_1.0_224.h5\n",
      "\u001b[1m14536120/14536120\u001b[0m \u001b[32m━━━━━━━━━━━━━━━━━━━━\u001b[0m\u001b[37m\u001b[0m \u001b[1m18s\u001b[0m 1us/step\n"
     ]
    },
    {
     "name": "stderr",
     "output_type": "stream",
     "text": [
      "C:\\Users\\Mahir Faisal\\AppData\\Roaming\\Python\\Python312\\site-packages\\keras\\src\\applications\\mobilenet_v3.py:517: UserWarning: `input_shape` is undefined or non-square, or `rows` is not 224. Weights for input shape (224, 224) will be loaded as the default.\n",
      "  return MobileNetV3(\n"
     ]
    },
    {
     "name": "stdout",
     "output_type": "stream",
     "text": [
      "Downloading data from https://storage.googleapis.com/tensorflow/keras-applications/mobilenet_v3/weights_mobilenet_v3_large_224_1.0_float.h5\n",
      "\u001b[1m22661472/22661472\u001b[0m \u001b[32m━━━━━━━━━━━━━━━━━━━━\u001b[0m\u001b[37m\u001b[0m \u001b[1m27s\u001b[0m 1us/step\n",
      "Downloading data from https://storage.googleapis.com/tensorflow/keras-applications/efficientnet_v2/efficientnetv2-s.h5\n",
      "\u001b[1m87549136/87549136\u001b[0m \u001b[32m━━━━━━━━━━━━━━━━━━━━\u001b[0m\u001b[37m\u001b[0m \u001b[1m104s\u001b[0m 1us/step\n"
     ]
    }
   ],
   "source": [
    "import tensorflow as tf\n",
    "from tensorflow.keras.applications import MobileNetV2, MobileNetV3Large, EfficientNetV2S\n",
    "from tensorflow_addons.layers import DeformableConv2D\n",
    "\n",
    "mobilenet_v2 = MobileNetV2(weights='imagenet')\n",
    "mobilenet_v3 = MobileNetV3Large(weights='imagenet')\n",
    "efficientnet_v2 = EfficientNetV2S(weights='imagenet')\n",
    "\n"
   ]
  },
  {
   "cell_type": "code",
   "execution_count": 6,
   "id": "59f25975",
   "metadata": {},
   "outputs": [],
   "source": [
    "def inspect_kernels(model):\n",
    "    for layer in model.layers:\n",
    "        is_regular = isinstance(layer, tf.keras.layers.Conv2D) and layer.kernel_size != (1, 1) and getattr(layer, 'groups', 1) == 1 and layer.dilation_rate == (1, 1)\n",
    "        is_deform=isinstance(layer, DeformConv2d)\n",
    "        is_dilated=isinstance(layer, tf.keras.layers.Conv2D) and layer.dilation_rate != (1, 1)\n",
    "        is_depthwise=isinstance(layer, tf.keras.layers.DepthwiseConv2D)\n",
    "        is_pointwise = isinstance(layer, tf.keras.layers.Conv2D) and layer.kernel_size == (1, 1)\n",
    "        if(is_regular):\n",
    "            print(\"Regular kernel\")\n",
    "        elif(is_deform):\n",
    "            print(\"Deform kernel\")\n",
    "        elif(is_depthwise):\n",
    "            print(\"Depthwise kernel\") \n",
    "        elif(is_dilated):\n",
    "            print(\"Dialated kernel\")\n",
    "        elif(is_pointwise):\n",
    "            print(\"pointwise kernel\")\n",
    "    \n",
    "    \n",
    "    \n",
    "    \n",
    "        \n"
   ]
  },
  {
   "cell_type": "code",
   "execution_count": null,
   "id": "1293830d",
   "metadata": {},
   "outputs": [],
   "source": [
    "inspect_kernels(mobilenet_v2)"
   ]
  }
 ],
 "metadata": {
  "kernelspec": {
   "display_name": "Python 3",
   "language": "python",
   "name": "python3"
  },
  "language_info": {
   "codemirror_mode": {
    "name": "ipython",
    "version": 3
   },
   "file_extension": ".py",
   "mimetype": "text/x-python",
   "name": "python",
   "nbconvert_exporter": "python",
   "pygments_lexer": "ipython3",
   "version": "3.12.5"
  }
 },
 "nbformat": 4,
 "nbformat_minor": 5
}
