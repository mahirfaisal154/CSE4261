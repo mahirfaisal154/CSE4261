{
 "cells": [
  {
   "cell_type": "code",
   "execution_count": null,
   "id": "065e9cf9",
   "metadata": {},
   "outputs": [],
   "source": [
    "!pip install tensorflow-addons\n",
    "!pip install tensorflow==2.15.0 tensorflow-addons==0.23.0 -q"
   ]
  },
  {
   "cell_type": "code",
   "execution_count": null,
   "id": "e199f7b2",
   "metadata": {},
   "outputs": [
    {
     "name": "stdout",
     "output_type": "stream",
     "text": [
      "Downloading data from https://storage.googleapis.com/tensorflow/keras-applications/mobilenet_v2/mobilenet_v2_weights_tf_dim_ordering_tf_kernels_1.0_224.h5\n",
      "\u001b[1m14536120/14536120\u001b[0m \u001b[32m━━━━━━━━━━━━━━━━━━━━\u001b[0m\u001b[37m\u001b[0m \u001b[1m18s\u001b[0m 1us/step\n"
     ]
    },
    {
     "name": "stderr",
     "output_type": "stream",
     "text": [
      "C:\\Users\\Mahir Faisal\\AppData\\Roaming\\Python\\Python312\\site-packages\\keras\\src\\applications\\mobilenet_v3.py:517: UserWarning: `input_shape` is undefined or non-square, or `rows` is not 224. Weights for input shape (224, 224) will be loaded as the default.\n",
      "  return MobileNetV3(\n"
     ]
    },
    {
     "name": "stdout",
     "output_type": "stream",
     "text": [
      "Downloading data from https://storage.googleapis.com/tensorflow/keras-applications/mobilenet_v3/weights_mobilenet_v3_large_224_1.0_float.h5\n",
      "\u001b[1m22661472/22661472\u001b[0m \u001b[32m━━━━━━━━━━━━━━━━━━━━\u001b[0m\u001b[37m\u001b[0m \u001b[1m27s\u001b[0m 1us/step\n",
      "Downloading data from https://storage.googleapis.com/tensorflow/keras-applications/efficientnet_v2/efficientnetv2-s.h5\n",
      "\u001b[1m87549136/87549136\u001b[0m \u001b[32m━━━━━━━━━━━━━━━━━━━━\u001b[0m\u001b[37m\u001b[0m \u001b[1m104s\u001b[0m 1us/step\n"
     ]
    }
   ],
   "source": [
    "import tensorflow as tf\n",
    "from tensorflow.keras.applications import MobileNetV2, MobileNetV3Large, EfficientNetV2S\n",
    "from tensorflow_addons.layers import DeformableConv2D\n",
    "\n",
    "mobilenet_v2 = MobileNetV2(weights='imagenet')\n",
    "mobilenet_v3 = MobileNetV3Large(weights='imagenet')\n",
    "efficientnet_v2 = EfficientNetV2S(weights='imagenet')\n",
    "\n"
   ]
  },
  {
   "cell_type": "code",
   "execution_count": 6,
   "id": "59f25975",
   "metadata": {},
   "outputs": [],
   "source": [
    "def inspect_kernels(model):\n",
    "    for layer in model.layers:\n",
    "        is_regular = isinstance(layer, tf.keras.layers.Conv2D) and layer.kernel_size != (1, 1) and getattr(layer, 'groups', 1) == 1 and layer.dilation_rate == (1, 1)\n",
    "        is_deform=isinstance(layer, DeformConv2d)\n",
    "        is_dilated=isinstance(layer, tf.keras.layers.Conv2D) and layer.dilation_rate != (1, 1)\n",
    "        is_depthwise=isinstance(layer, tf.keras.layers.DepthwiseConv2D)\n",
    "        is_pointwise = isinstance(layer, tf.keras.layers.Conv2D) and layer.kernel_size == (1, 1)\n",
    "        if(is_regular):\n",
    "            print(\"Regular kernel\")\n",
    "        elif(is_deform):\n",
    "            print(\"Deform kernel\")\n",
    "        elif(is_depthwise):\n",
    "            print(\"Depthwise kernel\") \n",
    "        elif(is_dilated):\n",
    "            print(\"Dialated kernel\")\n",
    "        elif(is_pointwise):\n",
    "            print(\"pointwise kernel\")\n",
    "    \n",
    "    \n",
    "    \n",
    "    \n",
    "        \n"
   ]
  },
  {
   "cell_type": "code",
   "execution_count": null,
   "id": "1293830d",
   "metadata": {},
   "outputs": [
    {
     "ename": "NameError",
     "evalue": "name 'DeformConv2d' is not defined",
     "output_type": "error",
     "traceback": [
      "\u001b[1;31m---------------------------------------------------------------------------\u001b[0m",
      "\u001b[1;31mNameError\u001b[0m                                 Traceback (most recent call last)",
      "Cell \u001b[1;32mIn[7], line 1\u001b[0m\n\u001b[1;32m----> 1\u001b[0m \u001b[43minspect_kernels\u001b[49m\u001b[43m(\u001b[49m\u001b[43mmobilenet_v2\u001b[49m\u001b[43m)\u001b[49m\n",
      "Cell \u001b[1;32mIn[6], line 4\u001b[0m, in \u001b[0;36minspect_kernels\u001b[1;34m(model)\u001b[0m\n\u001b[0;32m      2\u001b[0m \u001b[38;5;28;01mfor\u001b[39;00m layer \u001b[38;5;129;01min\u001b[39;00m model\u001b[38;5;241m.\u001b[39mlayers:\n\u001b[0;32m      3\u001b[0m     is_regular \u001b[38;5;241m=\u001b[39m \u001b[38;5;28misinstance\u001b[39m(layer, tf\u001b[38;5;241m.\u001b[39mkeras\u001b[38;5;241m.\u001b[39mlayers\u001b[38;5;241m.\u001b[39mConv2D) \u001b[38;5;129;01mand\u001b[39;00m layer\u001b[38;5;241m.\u001b[39mkernel_size \u001b[38;5;241m!=\u001b[39m (\u001b[38;5;241m1\u001b[39m, \u001b[38;5;241m1\u001b[39m) \u001b[38;5;129;01mand\u001b[39;00m \u001b[38;5;28mgetattr\u001b[39m(layer, \u001b[38;5;124m'\u001b[39m\u001b[38;5;124mgroups\u001b[39m\u001b[38;5;124m'\u001b[39m, \u001b[38;5;241m1\u001b[39m) \u001b[38;5;241m==\u001b[39m \u001b[38;5;241m1\u001b[39m \u001b[38;5;129;01mand\u001b[39;00m layer\u001b[38;5;241m.\u001b[39mdilation_rate \u001b[38;5;241m==\u001b[39m (\u001b[38;5;241m1\u001b[39m, \u001b[38;5;241m1\u001b[39m)\n\u001b[1;32m----> 4\u001b[0m     is_deform\u001b[38;5;241m=\u001b[39m\u001b[38;5;28misinstance\u001b[39m(layer, \u001b[43mDeformConv2d\u001b[49m)\n\u001b[0;32m      5\u001b[0m     is_dilated\u001b[38;5;241m=\u001b[39m\u001b[38;5;28misinstance\u001b[39m(layer, tf\u001b[38;5;241m.\u001b[39mkeras\u001b[38;5;241m.\u001b[39mlayers\u001b[38;5;241m.\u001b[39mConv2D) \u001b[38;5;129;01mand\u001b[39;00m layer\u001b[38;5;241m.\u001b[39mdilation_rate \u001b[38;5;241m!=\u001b[39m (\u001b[38;5;241m1\u001b[39m, \u001b[38;5;241m1\u001b[39m)\n\u001b[0;32m      6\u001b[0m     is_depthwise\u001b[38;5;241m=\u001b[39m\u001b[38;5;28misinstance\u001b[39m(layer, tf\u001b[38;5;241m.\u001b[39mkeras\u001b[38;5;241m.\u001b[39mlayers\u001b[38;5;241m.\u001b[39mDepthwiseConv2D)\n",
      "\u001b[1;31mNameError\u001b[0m: name 'DeformConv2d' is not defined"
     ]
    }
   ],
   "source": [
    "inspect_kernels(mobilenet_v2)"
   ]
  }
 ],
 "metadata": {
  "kernelspec": {
   "display_name": "Python 3",
   "language": "python",
   "name": "python3"
  },
  "language_info": {
   "codemirror_mode": {
    "name": "ipython",
    "version": 3
   },
   "file_extension": ".py",
   "mimetype": "text/x-python",
   "name": "python",
   "nbconvert_exporter": "python",
   "pygments_lexer": "ipython3",
   "version": "3.12.5"
  }
 },
 "nbformat": 4,
 "nbformat_minor": 5
}
